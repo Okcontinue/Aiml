{
 "cells": [
  {
   "cell_type": "code",
   "execution_count": 76,
   "id": "eef96a02-ec54-4c6c-b525-c495595c312a",
   "metadata": {},
   "outputs": [
    {
     "name": "stdout",
     "output_type": "stream",
     "text": [
      "bfs nodes: \n",
      "5 2 3 4 8 6 7 "
     ]
    }
   ],
   "source": [
    "graph={\n",
    "    '5' : ['2','3'],\n",
    "    '2' : ['4','8'],\n",
    "    '3' : ['6'],\n",
    "    '4' : [],\n",
    "    '8' : ['7'],\n",
    "    '6' : [],\n",
    "    '7' : []\n",
    "}\n",
    "visited=[]\n",
    "queue=[]\n",
    "def bfs(visited,graph,node):\n",
    "    queue.append(node)\n",
    "    visited.append(node)\n",
    "    while queue:\n",
    "        m=queue.pop(0)\n",
    "        print(m,end=' ')\n",
    "        for neighbour in graph [m]:\n",
    "            if neighbour not in visited :\n",
    "                visited.append(neighbour)\n",
    "                queue.append(neighbour)\n",
    "        \n",
    "print(\"bfs nodes: \")\n",
    "bfs(visited,graph,\"5\")"
   ]
  },
  {
   "cell_type": "code",
   "execution_count": 77,
   "id": "766cd046-5c2d-46cc-beed-64de93a18e33",
   "metadata": {},
   "outputs": [
    {
     "name": "stdout",
     "output_type": "stream",
     "text": [
      "dfs nodes: \n",
      "5 2 4 8 7 3 6 "
     ]
    }
   ],
   "source": [
    "graph={\n",
    "    '5' : ['2','3'],\n",
    "    '2' : ['4','8'],\n",
    "    '3' : ['6'],\n",
    "    '4' : [],\n",
    "    '8' : ['7'],\n",
    "    '6' : [],\n",
    "    '7' : []\n",
    "}\n",
    "visited=[]\n",
    "stack=[]\n",
    "def dfs(visited,graph,node):\n",
    "    if node not in visited :\n",
    "        visited.append(node)\n",
    "        stack.append(node)\n",
    "        n=stack.pop(0)\n",
    "        print(n,end=' ')\n",
    "        for neighbour in graph [node]:\n",
    "            dfs(visited,graph,neighbour)\n",
    "        \n",
    "        \n",
    "print(\"dfs nodes: \")\n",
    "dfs(visited,graph,\"5\")"
   ]
  },
  {
   "cell_type": "code",
   "execution_count": null,
   "id": "9ab2b30c-5b33-442c-b2e1-9637bb71e5b0",
   "metadata": {},
   "outputs": [],
   "source": []
  },
  {
   "cell_type": "code",
   "execution_count": null,
   "id": "237ea15f-622b-4c53-99a9-d4fea5ee7307",
   "metadata": {},
   "outputs": [],
   "source": []
  }
 ],
 "metadata": {
  "kernelspec": {
   "display_name": "Python 3 (ipykernel)",
   "language": "python",
   "name": "python3"
  },
  "language_info": {
   "codemirror_mode": {
    "name": "ipython",
    "version": 3
   },
   "file_extension": ".py",
   "mimetype": "text/x-python",
   "name": "python",
   "nbconvert_exporter": "python",
   "pygments_lexer": "ipython3",
   "version": "3.12.4"
  }
 },
 "nbformat": 4,
 "nbformat_minor": 5
}
